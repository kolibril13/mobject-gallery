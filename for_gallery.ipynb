{
 "cells": [
  {
   "cell_type": "code",
   "execution_count": 1,
   "source": [
    "from manim import *"
   ],
   "outputs": [
    {
     "output_type": "display_data",
     "data": {
      "text/html": [
       "<pre style=\"white-space:pre;overflow-x:auto;line-height:normal;font-family:Menlo,'DejaVu Sans Mono',consolas,'Courier New',monospace\">Manim Community <span style=\"color: #008000; text-decoration-color: #008000\">v0.10.0</span>\n",
       "\n",
       "</pre>\n"
      ],
      "text/plain": [
       "Manim Community \u001b[32mv0.\u001b[0m\u001b[32m10.0\u001b[0m\n",
       "\n"
      ]
     },
     "metadata": {}
    }
   ],
   "metadata": {}
  },
  {
   "cell_type": "code",
   "execution_count": 6,
   "source": [
    "%%manim -v WARNING -r 80,40 -s --disable_caching Example\n",
    "class Example(ZoomedScene):\n",
    "    def construct(self):\n",
    "        self.camera.frame.scale(1/20)\n",
    "        d= Dot(color= YELLOW)\n",
    "        self.add(d)"
   ],
   "outputs": [
    {
     "output_type": "display_data",
     "data": {
      "image/png": "[encoded data removed]",
      "text/plain": [
       "<IPython.core.display.Image object>"
      ]
     },
     "metadata": {}
    }
   ],
   "metadata": {}
  },
  {
   "cell_type": "code",
   "execution_count": 7,
   "source": [
    "%%manim -v WARNING -r 80,40 -s  --disable_caching Example\n",
    "class Example(ZoomedScene):\n",
    "    def construct(self):\n",
    "        mob= Circle(color= YELLOW)\n",
    "        self.add(mob)\n",
    "        mob.scale(0.1)\n",
    "        self.camera.frame.scale(1/25)"
   ],
   "outputs": [
    {
     "output_type": "display_data",
     "data": {
      "image/png": "[encoded data removed]",
      "text/plain": [
       "<IPython.core.display.Image object>"
      ]
     },
     "metadata": {}
    }
   ],
   "metadata": {}
  },
  {
   "cell_type": "code",
   "execution_count": 8,
   "source": [
    "%%manim -v WARNING -r 80,40 -s  --disable_caching Example\n",
    "class Example(ZoomedScene):\n",
    "    def construct(self):\n",
    "        mob= Square(color= YELLOW)\n",
    "        self.add(mob)\n",
    "        mob.scale(0.1)\n",
    "        self.camera.frame.scale(1/25)"
   ],
   "outputs": [
    {
     "output_type": "display_data",
     "data": {
      "image/png": "[encoded data removed]",
      "text/plain": [
       "<IPython.core.display.Image object>"
      ]
     },
     "metadata": {}
    }
   ],
   "metadata": {}
  },
  {
   "cell_type": "code",
   "execution_count": 9,
   "source": [
    "%%manim -v WARNING -r 80,40 -s  --disable_caching Example\n",
    "class Example(ZoomedScene):\n",
    "    def construct(self):\n",
    "        mob= Line(color= YELLOW)\n",
    "        self.add(mob)\n",
    "        mob.scale(0.1)\n",
    "        self.camera.frame.scale(1/25)"
   ],
   "outputs": [
    {
     "output_type": "display_data",
     "data": {
      "image/png": "[encoded data removed]",
      "text/plain": [
       "<IPython.core.display.Image object>"
      ]
     },
     "metadata": {}
    }
   ],
   "metadata": {}
  },
  {
   "cell_type": "code",
   "execution_count": null,
   "source": [],
   "outputs": [],
   "metadata": {}
  }
 ],
 "metadata": {
  "kernelspec": {
   "display_name": "Python 3",
   "language": "python",
   "name": "python3"
  },
  "language_info": {
   "codemirror_mode": {
    "name": "ipython",
    "version": 3
   },
   "file_extension": ".py",
   "mimetype": "text/x-python",
   "name": "python",
   "nbconvert_exporter": "python",
   "pygments_lexer": "ipython3",
   "version": "3.9.5"
  }
 },
 "nbformat": 4,
 "nbformat_minor": 5
}